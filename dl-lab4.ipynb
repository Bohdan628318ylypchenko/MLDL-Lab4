{
 "cells": [
  {
   "cell_type": "code",
   "execution_count": 2,
   "metadata": {},
   "outputs": [
    {
     "name": "stdout",
     "output_type": "stream",
     "text": [
      "WARNING:tensorflow:From c:\\Users\\bohdan\\AppData\\Local\\Programs\\Python\\Python310\\lib\\site-packages\\keras\\src\\losses.py:2976: The name tf.losses.sparse_softmax_cross_entropy is deprecated. Please use tf.compat.v1.losses.sparse_softmax_cross_entropy instead.\n",
      "\n"
     ]
    }
   ],
   "source": [
    "import matplotlib.pyplot as plt\n",
    "import seaborn as sns\n",
    "import numpy as np\n",
    "from sklearn.metrics import balanced_accuracy_score, matthews_corrcoef, accuracy_score, precision_score, recall_score, f1_score, confusion_matrix\n",
    "from keras.models import load_model\n",
    "from keras.preprocessing import image\n",
    "from keras.applications.vgg16 import preprocess_input, decode_predictions\n",
    "import tensorflow as tf\n",
    "from tensorflow.keras.datasets import cifar10\n",
    "from tensorflow.keras.models import Sequential\n",
    "from tensorflow.keras.layers import Conv2D, MaxPooling2D, Dense, Flatten, Activation, Dropout\n",
    "from tensorflow.keras.utils import to_categorical\n",
    "from tensorflow.keras.optimizers import SGD"
   ]
  },
  {
   "cell_type": "code",
   "execution_count": 3,
   "metadata": {},
   "outputs": [
    {
     "name": "stdout",
     "output_type": "stream",
     "text": [
      "Downloading data from https://www.cs.toronto.edu/~kriz/cifar-10-python.tar.gz\n",
      "170498071/170498071 [==============================] - 17s 0us/step\n",
      "WARNING:tensorflow:From c:\\Users\\bohdan\\AppData\\Local\\Programs\\Python\\Python310\\lib\\site-packages\\keras\\src\\backend.py:873: The name tf.get_default_graph is deprecated. Please use tf.compat.v1.get_default_graph instead.\n",
      "\n",
      "WARNING:tensorflow:From c:\\Users\\bohdan\\AppData\\Local\\Programs\\Python\\Python310\\lib\\site-packages\\keras\\src\\layers\\pooling\\max_pooling2d.py:161: The name tf.nn.max_pool is deprecated. Please use tf.nn.max_pool2d instead.\n",
      "\n",
      "Epoch 1/25\n",
      "WARNING:tensorflow:From c:\\Users\\bohdan\\AppData\\Local\\Programs\\Python\\Python310\\lib\\site-packages\\keras\\src\\utils\\tf_utils.py:492: The name tf.ragged.RaggedTensorValue is deprecated. Please use tf.compat.v1.ragged.RaggedTensorValue instead.\n",
      "\n",
      "WARNING:tensorflow:From c:\\Users\\bohdan\\AppData\\Local\\Programs\\Python\\Python310\\lib\\site-packages\\keras\\src\\engine\\base_layer_utils.py:384: The name tf.executing_eagerly_outside_functions is deprecated. Please use tf.compat.v1.executing_eagerly_outside_functions instead.\n",
      "\n",
      "1407/1407 - 111s - loss: 1.7485 - accuracy: 0.3550 - val_loss: 1.5289 - val_accuracy: 0.4420 - 111s/epoch - 79ms/step\n",
      "Epoch 2/25\n",
      "1407/1407 - 95s - loss: 1.3305 - accuracy: 0.5186 - val_loss: 1.0829 - val_accuracy: 0.6208 - 95s/epoch - 68ms/step\n",
      "Epoch 3/25\n",
      "1407/1407 - 90s - loss: 1.1421 - accuracy: 0.5922 - val_loss: 0.9343 - val_accuracy: 0.6720 - 90s/epoch - 64ms/step\n",
      "Epoch 4/25\n",
      "1407/1407 - 89s - loss: 1.0232 - accuracy: 0.6355 - val_loss: 0.8837 - val_accuracy: 0.6892 - 89s/epoch - 64ms/step\n",
      "Epoch 5/25\n",
      "1407/1407 - 87s - loss: 0.9399 - accuracy: 0.6700 - val_loss: 0.8762 - val_accuracy: 0.6926 - 87s/epoch - 62ms/step\n",
      "Epoch 6/25\n",
      "1407/1407 - 85s - loss: 0.8809 - accuracy: 0.6909 - val_loss: 0.8327 - val_accuracy: 0.7150 - 85s/epoch - 61ms/step\n",
      "Epoch 7/25\n",
      "1407/1407 - 90s - loss: 0.8382 - accuracy: 0.7059 - val_loss: 0.7406 - val_accuracy: 0.7442 - 90s/epoch - 64ms/step\n",
      "Epoch 8/25\n",
      "1407/1407 - 91s - loss: 0.7914 - accuracy: 0.7204 - val_loss: 0.7315 - val_accuracy: 0.7460 - 91s/epoch - 64ms/step\n",
      "Epoch 9/25\n",
      "1407/1407 - 87s - loss: 0.7702 - accuracy: 0.7302 - val_loss: 0.7691 - val_accuracy: 0.7440 - 87s/epoch - 62ms/step\n",
      "Epoch 10/25\n",
      "1407/1407 - 86s - loss: 0.7445 - accuracy: 0.7412 - val_loss: 0.7414 - val_accuracy: 0.7498 - 86s/epoch - 61ms/step\n",
      "Epoch 11/25\n",
      "1407/1407 - 87s - loss: 0.7181 - accuracy: 0.7485 - val_loss: 0.7345 - val_accuracy: 0.7408 - 87s/epoch - 62ms/step\n",
      "Epoch 12/25\n",
      "1407/1407 - 86s - loss: 0.7043 - accuracy: 0.7545 - val_loss: 0.7028 - val_accuracy: 0.7628 - 86s/epoch - 61ms/step\n",
      "Epoch 13/25\n",
      "1407/1407 - 86s - loss: 0.6845 - accuracy: 0.7614 - val_loss: 0.7163 - val_accuracy: 0.7528 - 86s/epoch - 61ms/step\n",
      "Epoch 14/25\n",
      "1407/1407 - 95s - loss: 0.6733 - accuracy: 0.7643 - val_loss: 0.6939 - val_accuracy: 0.7668 - 95s/epoch - 68ms/step\n",
      "Epoch 15/25\n",
      "1407/1407 - 87s - loss: 0.6524 - accuracy: 0.7742 - val_loss: 0.6914 - val_accuracy: 0.7710 - 87s/epoch - 62ms/step\n",
      "Epoch 16/25\n",
      "1407/1407 - 87s - loss: 0.6425 - accuracy: 0.7765 - val_loss: 0.7069 - val_accuracy: 0.7594 - 87s/epoch - 62ms/step\n",
      "Epoch 17/25\n",
      "1407/1407 - 85s - loss: 0.6277 - accuracy: 0.7813 - val_loss: 0.6852 - val_accuracy: 0.7604 - 85s/epoch - 61ms/step\n",
      "Epoch 18/25\n",
      "1407/1407 - 97s - loss: 0.6245 - accuracy: 0.7844 - val_loss: 0.6775 - val_accuracy: 0.7806 - 97s/epoch - 69ms/step\n",
      "Epoch 19/25\n",
      "1407/1407 - 86s - loss: 0.6135 - accuracy: 0.7863 - val_loss: 0.7266 - val_accuracy: 0.7622 - 86s/epoch - 61ms/step\n",
      "Epoch 20/25\n",
      "1407/1407 - 85s - loss: 0.6133 - accuracy: 0.7866 - val_loss: 0.7149 - val_accuracy: 0.7590 - 85s/epoch - 60ms/step\n",
      "Epoch 21/25\n",
      "1407/1407 - 90s - loss: 0.5975 - accuracy: 0.7919 - val_loss: 0.7055 - val_accuracy: 0.7602 - 90s/epoch - 64ms/step\n",
      "Epoch 22/25\n",
      "1407/1407 - 89s - loss: 0.6089 - accuracy: 0.7909 - val_loss: 0.6591 - val_accuracy: 0.7742 - 89s/epoch - 63ms/step\n",
      "Epoch 23/25\n",
      "1407/1407 - 84s - loss: 0.5965 - accuracy: 0.7951 - val_loss: 0.6753 - val_accuracy: 0.7778 - 84s/epoch - 60ms/step\n",
      "Epoch 24/25\n",
      "1407/1407 - 84s - loss: 0.5947 - accuracy: 0.7946 - val_loss: 0.7537 - val_accuracy: 0.7520 - 84s/epoch - 60ms/step\n",
      "Epoch 25/25\n",
      "1407/1407 - 85s - loss: 0.5874 - accuracy: 0.7984 - val_loss: 0.7090 - val_accuracy: 0.7772 - 85s/epoch - 60ms/step\n",
      "Test data accuracy: 75.88%\n"
     ]
    },
    {
     "name": "stderr",
     "output_type": "stream",
     "text": [
      "c:\\Users\\bohdan\\AppData\\Local\\Programs\\Python\\Python310\\lib\\site-packages\\keras\\src\\engine\\training.py:3103: UserWarning: You are saving your model as an HDF5 file via `model.save()`. This file format is considered legacy. We recommend using instead the native Keras format, e.g. `model.save('my_model.keras')`.\n",
      "  saving_api.save_model(\n"
     ]
    }
   ],
   "source": [
    "np.random.seed(450)\n",
    "(X_train, y_train), (X_test, y_test) = cifar10.load_data()\n",
    "batch_size, nb_classes, nb_epochs, img_channels, img_rows, img_cols = 32, 10, 25, 3, 32, 32\n",
    "X_train = X_train.astype(\"float32\")/255\n",
    "X_test = X_test.astype(\"float32\")/255\n",
    "Y_train = to_categorical(y_train, nb_classes)\n",
    "Y_test = to_categorical(y_test, nb_classes)\n",
    "model = Sequential()\n",
    "model.add(Conv2D(32, (3, 3), padding=\"same\", input_shape=(32, 32, 3), activation=\"relu\"))\n",
    "model.add(Conv2D(32, (3, 3), activation=\"relu\", padding=\"same\"))\n",
    "model.add(MaxPooling2D(pool_size=(2, 2)))\n",
    "model.add(Dropout(0.25))\n",
    "model.add(Conv2D(64, (3, 3), padding=\"same\", activation=\"relu\"))\n",
    "model.add(Conv2D(64, (3, 3), activation=\"relu\"))\n",
    "model.add(MaxPooling2D(pool_size=(2, 2)))\n",
    "model.add(Dropout(0.25))\n",
    "model.add(Flatten())\n",
    "model.add(Dense(512, activation=\"relu\"))\n",
    "model.add(Dropout(0.5))\n",
    "model.add(Dense(nb_classes, activation=\"softmax\"))\n",
    "sgd = SGD(learning_rate=0.01, momentum=0.9, nesterov=True)\n",
    "model.compile(loss=\"categorical_crossentropy\", optimizer=sgd, metrics=[\"accuracy\"])\n",
    "history = model.fit(X_train, Y_train, batch_size=batch_size, epochs=nb_epochs, validation_split=0.1, shuffle=True, verbose=2)\n",
    "scores = model.evaluate(X_test, Y_test, verbose=0)\n",
    "print(\"Test data accuracy: %.2f%%\" % (scores[1] * 100))\n",
    "model.save(\"cnn_model.h5\")"
   ]
  },
  {
   "cell_type": "code",
   "execution_count": 24,
   "metadata": {},
   "outputs": [
    {
     "name": "stdout",
     "output_type": "stream",
     "text": [
      "1/1 [==============================] - 0s 35ms/step\n"
     ]
    },
    {
     "data": {
      "text/plain": [
       "array([[0., 0., 0., 1., 0., 0., 0., 0., 0., 0.]], dtype=float32)"
      ]
     },
     "execution_count": 24,
     "metadata": {},
     "output_type": "execute_result"
    }
   ],
   "source": [
    "img = image.load_img(\"airplane.jpg\", target_size=(32, 32))\n",
    "img_array = image.img_to_array(img)\n",
    "img_array = np.expand_dims(img_array, axis=0)\n",
    "img_array = preprocess_input(img_array)\n",
    "model.predict(img_array)"
   ]
  },
  {
   "cell_type": "code",
   "execution_count": 25,
   "metadata": {},
   "outputs": [
    {
     "name": "stdout",
     "output_type": "stream",
     "text": [
      "1/1 [==============================] - 0s 41ms/step\n"
     ]
    },
    {
     "data": {
      "text/plain": [
       "array([[0., 1., 0., 0., 0., 0., 0., 0., 0., 0.]], dtype=float32)"
      ]
     },
     "execution_count": 25,
     "metadata": {},
     "output_type": "execute_result"
    }
   ],
   "source": [
    "img = image.load_img(\"automobile.jpg\", target_size=(32, 32))\n",
    "img_array = image.img_to_array(img)\n",
    "img_array = np.expand_dims(img_array, axis=0)\n",
    "img_array = preprocess_input(img_array)\n",
    "model.predict(img_array)"
   ]
  },
  {
   "cell_type": "code",
   "execution_count": 27,
   "metadata": {},
   "outputs": [
    {
     "name": "stdout",
     "output_type": "stream",
     "text": [
      "1/1 [==============================] - 0s 41ms/step\n"
     ]
    },
    {
     "data": {
      "text/plain": [
       "array([[1., 0., 0., 0., 0., 0., 0., 0., 0., 0.]], dtype=float32)"
      ]
     },
     "execution_count": 27,
     "metadata": {},
     "output_type": "execute_result"
    }
   ],
   "source": [
    "img = image.load_img(\"bird.jpg\", target_size=(32, 32))\n",
    "img_array = image.img_to_array(img)\n",
    "img_array = np.expand_dims(img_array, axis=0)\n",
    "img_array = preprocess_input(img_array)\n",
    "model.predict(img_array)"
   ]
  },
  {
   "cell_type": "code",
   "execution_count": 40,
   "metadata": {},
   "outputs": [
    {
     "name": "stdout",
     "output_type": "stream",
     "text": [
      "1/1 [==============================] - 0s 49ms/step\n"
     ]
    },
    {
     "data": {
      "text/plain": [
       "array([[0., 0., 0., 0., 0., 0., 0., 0., 0., 1.]], dtype=float32)"
      ]
     },
     "execution_count": 40,
     "metadata": {},
     "output_type": "execute_result"
    }
   ],
   "source": [
    "img = image.load_img(\"cat.jpg\", target_size=(32, 32))\n",
    "img_array = image.img_to_array(img)\n",
    "img_array = np.expand_dims(img_array, axis=0)\n",
    "img_array = preprocess_input(img_array)\n",
    "model.predict(img_array)"
   ]
  },
  {
   "cell_type": "code",
   "execution_count": 29,
   "metadata": {},
   "outputs": [
    {
     "name": "stdout",
     "output_type": "stream",
     "text": [
      "1/1 [==============================] - 0s 40ms/step\n"
     ]
    },
    {
     "data": {
      "text/plain": [
       "array([[0., 1., 0., 0., 0., 0., 0., 0., 0., 0.]], dtype=float32)"
      ]
     },
     "execution_count": 29,
     "metadata": {},
     "output_type": "execute_result"
    }
   ],
   "source": [
    "img = image.load_img(\"deer.jpg\", target_size=(32, 32))\n",
    "img_array = image.img_to_array(img)\n",
    "img_array = np.expand_dims(img_array, axis=0)\n",
    "img_array = preprocess_input(img_array)\n",
    "model.predict(img_array)"
   ]
  },
  {
   "cell_type": "code",
   "execution_count": 41,
   "metadata": {},
   "outputs": [
    {
     "name": "stdout",
     "output_type": "stream",
     "text": [
      "1/1 [==============================] - 0s 51ms/step\n"
     ]
    },
    {
     "data": {
      "text/plain": [
       "array([[0., 0., 0., 0., 0., 0., 0., 1., 0., 0.]], dtype=float32)"
      ]
     },
     "execution_count": 41,
     "metadata": {},
     "output_type": "execute_result"
    }
   ],
   "source": [
    "img = image.load_img(\"dog.jpg\", target_size=(32, 32))\n",
    "img_array = image.img_to_array(img)\n",
    "img_array = np.expand_dims(img_array, axis=0)\n",
    "img_array = preprocess_input(img_array)\n",
    "model.predict(img_array)"
   ]
  },
  {
   "cell_type": "code",
   "execution_count": 34,
   "metadata": {},
   "outputs": [
    {
     "name": "stdout",
     "output_type": "stream",
     "text": [
      "1/1 [==============================] - 0s 43ms/step\n"
     ]
    },
    {
     "data": {
      "text/plain": [
       "array([[1., 0., 0., 0., 0., 0., 0., 0., 0., 0.]], dtype=float32)"
      ]
     },
     "execution_count": 34,
     "metadata": {},
     "output_type": "execute_result"
    }
   ],
   "source": [
    "img = image.load_img(\"frog.jpg\", target_size=(32, 32))\n",
    "img_array = image.img_to_array(img)\n",
    "img_array = np.expand_dims(img_array, axis=0)\n",
    "img_array = preprocess_input(img_array)\n",
    "model.predict(img_array)"
   ]
  },
  {
   "cell_type": "code",
   "execution_count": 37,
   "metadata": {},
   "outputs": [
    {
     "name": "stdout",
     "output_type": "stream",
     "text": [
      "1/1 [==============================] - 0s 46ms/step\n"
     ]
    },
    {
     "data": {
      "text/plain": [
       "array([[0., 0., 0., 0., 0., 0., 0., 1., 0., 0.]], dtype=float32)"
      ]
     },
     "execution_count": 37,
     "metadata": {},
     "output_type": "execute_result"
    }
   ],
   "source": [
    "img = image.load_img(\"horse.jpg\", target_size=(32, 32))\n",
    "img_array = image.img_to_array(img)\n",
    "img_array = np.expand_dims(img_array, axis=0)\n",
    "img_array = preprocess_input(img_array)\n",
    "model.predict(img_array)"
   ]
  },
  {
   "cell_type": "code",
   "execution_count": 38,
   "metadata": {},
   "outputs": [
    {
     "name": "stdout",
     "output_type": "stream",
     "text": [
      "1/1 [==============================] - 0s 38ms/step\n"
     ]
    },
    {
     "data": {
      "text/plain": [
       "array([[0., 0., 0., 0., 0., 0., 0., 0., 1., 0.]], dtype=float32)"
      ]
     },
     "execution_count": 38,
     "metadata": {},
     "output_type": "execute_result"
    }
   ],
   "source": [
    "img = image.load_img(\"ship.jpg\", target_size=(32, 32))\n",
    "img_array = image.img_to_array(img)\n",
    "img_array = np.expand_dims(img_array, axis=0)\n",
    "img_array = preprocess_input(img_array)\n",
    "model.predict(img_array)"
   ]
  },
  {
   "cell_type": "code",
   "execution_count": 42,
   "metadata": {},
   "outputs": [
    {
     "data": {
      "image/png": "[encoded data removed]",
      "text/plain": [
       "<Figure size 1000x600 with 1 Axes>"
      ]
     },
     "metadata": {},
     "output_type": "display_data"
    }
   ],
   "source": [
    "train_accuracy = [\n",
    "    0.3550, 0.5186, 0.5922, 0.6355, 0.6700, 0.6909, 0.7059, 0.7204, 0.7302, 0.7412, 0.7485, 0.7545, 0.7614, 0.7643, 0.7742,\n",
    "    0.7765, 0.7813, 0.7844, 0.7863, 0.7866, 0.7919, 0.7909, 0.7951, 0.7946, 0.7984 \n",
    "]\n",
    "validation_accuracy = [\n",
    "    0.4420, 0.6208, 0.6720, 0.6892, 0.6926, 0.7150, 0.7442, 0.7460, 0.7440, 0.7498, 0.7408, 0.7628, 0.7528,\n",
    "    0.7668, 0.7710, 0.7594, 0.7604, 0.7806, 0.7622, 0.7590, 0.7602, 0.7742, 0.7778, 0.7520, 0.7772\n",
    "]\n",
    "epochs = list(range(1, 26))\n",
    "plt.figure(figsize=(10, 6))\n",
    "plt.plot(epochs, train_accuracy, label=\"Train Accuracy\", marker=\"o\", color=\"blue\")\n",
    "plt.plot(epochs, validation_accuracy, label=\"Validation Accuracy\", marker=\"o\", color=\"orange\")\n",
    "plt.xlabel(\"Epoch\")\n",
    "plt.ylabel(\"Accuracy\")\n",
    "plt.legend()\n",
    "plt.grid(True)\n",
    "plt.show()"
   ]
  },
  {
   "cell_type": "code",
   "execution_count": 43,
   "metadata": {},
   "outputs": [
    {
     "name": "stdout",
     "output_type": "stream",
     "text": [
      "Train: \n",
      "1563/1563 [==============================] - 28s 18ms/step\n",
      "Accuracy:  0.8961\n",
      "Precision:  0.902188312224144\n",
      "Recall:  0.8961\n",
      "F1 :  0.8970089571214134\n",
      "Matthews corr:  0.8850421990103892\n",
      "Balanced accuracy:  0.8961\n",
      "Test: \n",
      "313/313 [==============================] - 6s 19ms/step\n",
      "Accuracy:  0.7588\n",
      "Precision:  0.7753199089763545\n",
      "Recall:  0.7588\n",
      "F1 :  0.7614652746290959\n",
      "Matthews corr:  0.7333135224284258\n",
      "Balanced accuracy:  0.7588\n"
     ]
    }
   ],
   "source": [
    "def metrics(y_true, y_pred):\n",
    "    print(\"Accuracy: \", accuracy_score(y_true, y_pred))\n",
    "    print(\"Precision: \", precision_score(y_true, y_pred, average=\"weighted\"))\n",
    "    print(\"Recall: \", recall_score(y_true, y_pred, average=\"weighted\"))\n",
    "    print(\"F1 : \", f1_score(y_true, y_pred, average=\"weighted\"))\n",
    "    print(\"Matthews corr: \", matthews_corrcoef(y_true, y_pred))\n",
    "    print(\"Balanced accuracy: \", balanced_accuracy_score(y_true, y_pred))\n",
    "\n",
    "print(\"Train: \")\n",
    "metrics(np.argmax(Y_train, axis=1), np.argmax(model.predict(X_train), axis=1))\n",
    "print(\"Test: \")\n",
    "metrics(np.argmax(Y_test, axis=1), np.argmax(model.predict(X_test), axis=1))"
   ]
  }
 ],
 "metadata": {
  "kernelspec": {
   "display_name": "Python 3",
   "language": "python",
   "name": "python3"
  },
  "language_info": {
   "codemirror_mode": {
    "name": "ipython",
    "version": 3
   },
   "file_extension": ".py",
   "mimetype": "text/x-python",
   "name": "python",
   "nbconvert_exporter": "python",
   "pygments_lexer": "ipython3",
   "version": "3.10.11"
  }
 },
 "nbformat": 4,
 "nbformat_minor": 2
}
